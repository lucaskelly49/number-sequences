{
 "cells": [
  {
   "cell_type": "markdown",
   "metadata": {},
   "source": [
    "## Section 2: A sequence of n numbers is considered valid if the sequence begins with 1, ends with a given number j, and no two adjacent numbers are the same. Sequences may use any integers between 1 and a given number k, inclusive (also 1<=j<=k). Given parameters n, j, and k, count the number of valid sequences. The number of valid sequences may be very large, so express your answer modulo 1010+7."
   ]
  },
  {
   "cell_type": "code",
   "execution_count": 1,
   "metadata": {},
   "outputs": [],
   "source": [
    "import itertools\n",
    "from itertools import permutations "
   ]
  },
  {
   "cell_type": "markdown",
   "metadata": {},
   "source": [
    "length = n\n",
    "start = 1\n",
    "end = j\n",
    "range = 1 and k"
   ]
  },
  {
   "cell_type": "markdown",
   "metadata": {},
   "source": [
    "## 1. n=4, k=4, and j=2?"
   ]
  },
  {
   "cell_type": "code",
   "execution_count": 2,
   "metadata": {},
   "outputs": [
    {
     "name": "stdout",
     "output_type": "stream",
     "text": [
      "1 (1, 2, 3, 4)\n",
      "2 (1, 2, 4, 3)\n",
      "3 (1, 3, 2, 4)\n",
      "4 (1, 3, 4, 2)\n",
      "5 (1, 4, 2, 3)\n",
      "6 (1, 4, 3, 2)\n",
      "7 (2, 1, 3, 4)\n",
      "8 (2, 1, 4, 3)\n",
      "9 (2, 3, 1, 4)\n",
      "10 (2, 3, 4, 1)\n",
      "11 (2, 4, 1, 3)\n",
      "12 (2, 4, 3, 1)\n",
      "13 (3, 1, 2, 4)\n",
      "14 (3, 1, 4, 2)\n",
      "15 (3, 2, 1, 4)\n",
      "16 (3, 2, 4, 1)\n",
      "17 (3, 4, 1, 2)\n",
      "18 (3, 4, 2, 1)\n",
      "19 (4, 1, 2, 3)\n",
      "20 (4, 1, 3, 2)\n",
      "21 (4, 2, 1, 3)\n",
      "22 (4, 2, 3, 1)\n",
      "23 (4, 3, 1, 2)\n",
      "24 (4, 3, 2, 1)\n",
      "number of permutations 24\n"
     ]
    }
   ],
   "source": [
    "permut = itertools.permutations(range(1, 5), 4)\n",
    "count_permut = []\n",
    "for i in permut:\n",
    "    count_permut.append(i)\n",
    "    print(count_permut.index(i)+1, i)\n",
    "print('number of permutations', len(count_permut))"
   ]
  },
  {
   "cell_type": "markdown",
   "metadata": {},
   "source": [
    "## 2. n=4, k=100, and j=1?"
   ]
  },
  {
   "cell_type": "code",
   "execution_count": 6,
   "metadata": {},
   "outputs": [
    {
     "name": "stdout",
     "output_type": "stream",
     "text": [
      "number of permutations 0\n"
     ]
    }
   ],
   "source": [
    "permut = itertools.permutations((1, 101), 4)\n",
    "count_permut = []\n",
    "for i in permut:\n",
    "    count_permut.append(i)\n",
    "    print(count_permut.index(i)+1, i)\n",
    "print('number of permutations', len(count_permut))"
   ]
  },
  {
   "cell_type": "markdown",
   "metadata": {},
   "source": [
    "## 3. n=100, k=100, and j=1?"
   ]
  },
  {
   "cell_type": "code",
   "execution_count": 11,
   "metadata": {},
   "outputs": [
    {
     "name": "stdout",
     "output_type": "stream",
     "text": [
      "number of permutations 0\n"
     ]
    }
   ],
   "source": [
    "permut = itertools.permutations((1, 101), 100)\n",
    "count_permut = []\n",
    "for i in permut:\n",
    "    count_permut.append(i)\n",
    "    print(count_permut.index(i)+1, i)\n",
    "print('number of permutations', len(count_permut))"
   ]
  },
  {
   "cell_type": "markdown",
   "metadata": {},
   "source": [
    "## 4. n=347, k=2281, and j=829?"
   ]
  },
  {
   "cell_type": "code",
   "execution_count": 12,
   "metadata": {},
   "outputs": [
    {
     "name": "stdout",
     "output_type": "stream",
     "text": [
      "number of permutations 0\n"
     ]
    }
   ],
   "source": [
    "permut = itertools.permutations((1, 2282), 347)\n",
    "count_permut = []\n",
    "for i in permut:\n",
    "    count_permut.append(i)\n",
    "    print(count_permut.index(i)+1, i)\n",
    "print('number of permutations', len(count_permut))"
   ]
  },
  {
   "cell_type": "code",
   "execution_count": null,
   "metadata": {},
   "outputs": [],
   "source": []
  }
 ],
 "metadata": {
  "kernelspec": {
   "display_name": "Python 3",
   "language": "python",
   "name": "python3"
  },
  "language_info": {
   "codemirror_mode": {
    "name": "ipython",
    "version": 3
   },
   "file_extension": ".py",
   "mimetype": "text/x-python",
   "name": "python",
   "nbconvert_exporter": "python",
   "pygments_lexer": "ipython3",
   "version": "3.7.1"
  }
 },
 "nbformat": 4,
 "nbformat_minor": 2
}
